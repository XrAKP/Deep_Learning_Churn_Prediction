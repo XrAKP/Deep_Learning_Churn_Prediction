{
 "cells": [
  {
   "cell_type": "code",
   "execution_count": null,
   "id": "511704d9",
   "metadata": {},
   "outputs": [],
   "source": [
    "import tensorflow"
   ]
  },
  {
   "cell_type": "code",
   "execution_count": null,
   "id": "5b914f79",
   "metadata": {},
   "outputs": [],
   "source": [
    "import numpy as np\n",
    "import pandas as pd\n",
    "import matplotlib.pyplot as plt\n",
    "import seaborn as sns\n",
    "from sklearn.preprocessing import StandardScaler\n"
   ]
  },
  {
   "cell_type": "code",
   "execution_count": null,
   "id": "0572d33e",
   "metadata": {},
   "outputs": [],
   "source": [
    "dataset = pd.read_csv(\"Churn_Modelling.csv\")"
   ]
  },
  {
   "cell_type": "code",
   "execution_count": null,
   "id": "0e121ddd",
   "metadata": {},
   "outputs": [],
   "source": [
    "dataset.head()"
   ]
  },
  {
   "cell_type": "code",
   "execution_count": null,
   "id": "1c9c1e90",
   "metadata": {},
   "outputs": [],
   "source": [
    "input_data= dataset.iloc[:, :-1]\n",
    "output_data = dataset.iloc[:,-1]"
   ]
  },
  {
   "cell_type": "code",
   "execution_count": null,
   "id": "591f071d",
   "metadata": {},
   "outputs": [],
   "source": [
    "dataset.info()"
   ]
  },
  {
   "cell_type": "code",
   "execution_count": null,
   "id": "65598efa",
   "metadata": {},
   "outputs": [],
   "source": [
    "ss = StandardScaler()\n",
    "ss.fit_transform(input_data)"
   ]
  },
  {
   "cell_type": "code",
   "execution_count": null,
   "id": "b4446eac",
   "metadata": {},
   "outputs": [],
   "source": [
    "input_data=pd.DataFrame(ss.fit_transform(input_data),columns=input_data.columns)\n",
    "input_data"
   ]
  },
  {
   "cell_type": "code",
   "execution_count": null,
   "id": "c2435216",
   "metadata": {},
   "outputs": [],
   "source": [
    "input_data.shape"
   ]
  },
  {
   "cell_type": "code",
   "execution_count": null,
   "id": "5d2132e5",
   "metadata": {},
   "outputs": [],
   "source": [
    "from sklearn.model_selection import train_test_split\n",
    "\n",
    "x_train,x_test,y_train,y_test=train_test_split(input_data,output_data,test_size=0.2, random_state=2)"
   ]
  },
  {
   "cell_type": "code",
   "execution_count": null,
   "id": "097cdd15",
   "metadata": {},
   "outputs": [],
   "source": [
    "x_train.shape"
   ]
  },
  {
   "cell_type": "code",
   "execution_count": null,
   "id": "488e8e3c",
   "metadata": {},
   "outputs": [],
   "source": [
    "from keras.layers import Dense\n",
    "from keras.models import Sequential\n",
    "from keras.callbacks import EarlyStopping"
   ]
  },
  {
   "cell_type": "code",
   "execution_count": null,
   "id": "6721687c",
   "metadata": {},
   "outputs": [],
   "source": [
    "ann = Sequential()"
   ]
  },
  {
   "cell_type": "code",
   "execution_count": null,
   "id": "914baca7",
   "metadata": {},
   "outputs": [],
   "source": [
    "ann.add(Dense(6,input_dim=8, activation=\"relu\"))\n",
    "ann.add(Dense(4, activation=\"relu\"))\n",
    "ann.add(Dense(2, activation=\"relu\"))\n",
    "ann.add(Dense(1, activation=\"sigmoid\"))"
   ]
  },
  {
   "cell_type": "code",
   "execution_count": null,
   "id": "bcb11d7f",
   "metadata": {},
   "outputs": [],
   "source": [
    "ann.compile(optimizer=\"adam\", loss=\"binary_crossentropy\", metrics = ['accuracy'])"
   ]
  },
  {
   "cell_type": "code",
   "execution_count": null,
   "id": "c35dd05e-29e8-4d21-a57a-e47d0628ff13",
   "metadata": {},
   "outputs": [],
   "source": [
    "ann.fit(x_train,y_train, batch_size = 100, epochs = 10, validation_data = (x_test, y_test), callbacks = EarlyStopping())"
   ]
  },
  {
   "cell_type": "code",
   "execution_count": null,
   "id": "751f1de0-5852-4383-90a9-96800a70387b",
   "metadata": {},
   "outputs": [],
   "source": [
    "train_accuracy = ann.history.history[\"accuracy\"]\n",
    "test_accuracy = ann.history.history[\"val_accuracy\"]\n"
   ]
  },
  {
   "cell_type": "code",
   "execution_count": null,
   "id": "31e4d8d2",
   "metadata": {},
   "outputs": [],
   "source": [
    "sample = np.array ([[-0.326221,0.293517,-1.041760,-1.225848,-0.911583,0.646092,0.970243,0.021886]])"
   ]
  },
  {
   "cell_type": "code",
   "execution_count": null,
   "id": "e52b20d1",
   "metadata": {},
   "outputs": [],
   "source": [
    "prd = ann.predict(sample)\n",
    "\n",
    "prd_data = []\n",
    "\n",
    "for i in prd:\n",
    "    if i[0]<0.5:\n",
    "        prd_data.append(1)\n",
    "    else:\n",
    "        prd_data.append(0)\n",
    "\n",
    "prd_data"
   ]
  },
  {
   "cell_type": "code",
   "execution_count": null,
   "id": "040656d4-c5b8-49ec-8f98-8b19659b886c",
   "metadata": {},
   "outputs": [],
   "source": [
    "# plotting the history\n",
    "\n",
    "plt.plot([i for i in range(1,11)],train_accuracy)\n",
    "plt.plot([i for i in range(1,11)],test_accuracy, c = \"red\")\n",
    "plt.show()"
   ]
  }
 ],
 "metadata": {
  "kernelspec": {
   "display_name": "Python [conda env:base] *",
   "language": "python",
   "name": "conda-base-py"
  },
  "language_info": {
   "codemirror_mode": {
    "name": "ipython",
    "version": 3
   },
   "file_extension": ".py",
   "mimetype": "text/x-python",
   "name": "python",
   "nbconvert_exporter": "python",
   "pygments_lexer": "ipython3",
   "version": "3.13.5"
  }
 },
 "nbformat": 4,
 "nbformat_minor": 5
}
